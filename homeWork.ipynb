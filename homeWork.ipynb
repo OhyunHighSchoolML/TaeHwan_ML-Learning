{
 "metadata": {
  "language_info": {
   "codemirror_mode": {
    "name": "ipython",
    "version": 3
   },
   "file_extension": ".py",
   "mimetype": "text/x-python",
   "name": "python",
   "nbconvert_exporter": "python",
   "pygments_lexer": "ipython3",
   "version": "3.7.7-final"
  },
  "orig_nbformat": 2,
  "kernelspec": {
   "name": "python_defaultSpec_1598698359240",
   "display_name": "Python 3.7.7 64-bit ('tensorflow3.7': conda)"
  }
 },
 "nbformat": 4,
 "nbformat_minor": 2,
 "cells": [
  {
   "cell_type": "code",
   "execution_count": 45,
   "metadata": {},
   "outputs": [
    {
     "output_type": "execute_result",
     "data": {
      "text/plain": "             구분      어리목       영실      성판악     관음사    돈내코\n0      2014년 1월    38438    23593    63950    7769   2428\n1      2014년 2월    26338    26009    39079    4497   1338\n2      2014년 3월    25865    15816    29038    2476   1302\n3      2014년 4월    36917    21065    33980    4017    997\n4      2014년 5월    32995    30804    34533    5813   1681\n..          ...      ...      ...      ...     ...    ...\n56     2018년 9월    15534    19359    21581    4289    222\n57    2018년 10월    29580    36817    38166    7095    622\n58    2018년 11월    21422    25068    28438    7009    342\n59    2018년 12월    18264    12957    18035    3494    185\n60  2020 8월 29일  1706936  1399515  1902546  332172  39919\n\n[61 rows x 6 columns]",
      "text/html": "<div>\n<style scoped>\n    .dataframe tbody tr th:only-of-type {\n        vertical-align: middle;\n    }\n\n    .dataframe tbody tr th {\n        vertical-align: top;\n    }\n\n    .dataframe thead th {\n        text-align: right;\n    }\n</style>\n<table border=\"1\" class=\"dataframe\">\n  <thead>\n    <tr style=\"text-align: right;\">\n      <th></th>\n      <th>구분</th>\n      <th>어리목</th>\n      <th>영실</th>\n      <th>성판악</th>\n      <th>관음사</th>\n      <th>돈내코</th>\n    </tr>\n  </thead>\n  <tbody>\n    <tr>\n      <th>0</th>\n      <td>2014년 1월</td>\n      <td>38438</td>\n      <td>23593</td>\n      <td>63950</td>\n      <td>7769</td>\n      <td>2428</td>\n    </tr>\n    <tr>\n      <th>1</th>\n      <td>2014년 2월</td>\n      <td>26338</td>\n      <td>26009</td>\n      <td>39079</td>\n      <td>4497</td>\n      <td>1338</td>\n    </tr>\n    <tr>\n      <th>2</th>\n      <td>2014년 3월</td>\n      <td>25865</td>\n      <td>15816</td>\n      <td>29038</td>\n      <td>2476</td>\n      <td>1302</td>\n    </tr>\n    <tr>\n      <th>3</th>\n      <td>2014년 4월</td>\n      <td>36917</td>\n      <td>21065</td>\n      <td>33980</td>\n      <td>4017</td>\n      <td>997</td>\n    </tr>\n    <tr>\n      <th>4</th>\n      <td>2014년 5월</td>\n      <td>32995</td>\n      <td>30804</td>\n      <td>34533</td>\n      <td>5813</td>\n      <td>1681</td>\n    </tr>\n    <tr>\n      <th>...</th>\n      <td>...</td>\n      <td>...</td>\n      <td>...</td>\n      <td>...</td>\n      <td>...</td>\n      <td>...</td>\n    </tr>\n    <tr>\n      <th>56</th>\n      <td>2018년 9월</td>\n      <td>15534</td>\n      <td>19359</td>\n      <td>21581</td>\n      <td>4289</td>\n      <td>222</td>\n    </tr>\n    <tr>\n      <th>57</th>\n      <td>2018년 10월</td>\n      <td>29580</td>\n      <td>36817</td>\n      <td>38166</td>\n      <td>7095</td>\n      <td>622</td>\n    </tr>\n    <tr>\n      <th>58</th>\n      <td>2018년 11월</td>\n      <td>21422</td>\n      <td>25068</td>\n      <td>28438</td>\n      <td>7009</td>\n      <td>342</td>\n    </tr>\n    <tr>\n      <th>59</th>\n      <td>2018년 12월</td>\n      <td>18264</td>\n      <td>12957</td>\n      <td>18035</td>\n      <td>3494</td>\n      <td>185</td>\n    </tr>\n    <tr>\n      <th>60</th>\n      <td>2020 8월 29일</td>\n      <td>1706936</td>\n      <td>1399515</td>\n      <td>1902546</td>\n      <td>332172</td>\n      <td>39919</td>\n    </tr>\n  </tbody>\n</table>\n<p>61 rows × 6 columns</p>\n</div>"
     },
     "metadata": {},
     "execution_count": 45
    }
   ],
   "source": [
    "import pandas as pd\n",
    "\n",
    "data = pd.read_excel('./Data/mountain.xlsx')\n",
    "data.loc[60] = ['2020 8월 29일']+[data.iloc[:, i].sum() for i in range(1, int(data.shape[1]))]\n",
    "data\n"
   ]
  },
  {
   "cell_type": "code",
   "execution_count": null,
   "metadata": {},
   "outputs": [],
   "source": []
  }
 ]
}